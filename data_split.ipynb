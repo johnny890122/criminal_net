{
 "cells": [
  {
   "cell_type": "code",
   "execution_count": null,
   "metadata": {},
   "outputs": [],
   "source": [
    "import pandas as pd\n",
    "import numpy as np\n",
    "from argparse import ArgumentParser\n",
    "from pathlib import Path\n",
    "from sklearn.model_selection import train_test_split\n",
    "import torch\n",
    "import random\n",
    "import json"
   ]
  },
  {
   "cell_type": "code",
   "execution_count": null,
   "metadata": {},
   "outputs": [],
   "source": [
    "def parse_args():\n",
    "    parser = ArgumentParser()\n",
    "    \n",
    "    # data preprocess\n",
    "    parser.add_argument(\"--train_portion\", type=float, default=0.8)\n",
    "    parser.add_argument(\"--dev_portion\", type=float, default=0.1)\n",
    "    parser.add_argument(\"--test_portion\", type=float, default=0.1)\n",
    "    \n",
    "    # random seed\n",
    "    parser.add_argument(\"--seed\", type=int, default=0)\n",
    "    \n",
    "    # directory path\n",
    "    parser.add_argument(\"--raw_dir\", type=Path, default=\"./raw/\")\n",
    "    parser.add_argument(\"--data_dir\", type=Path, default=\"./data/\")\n",
    "    \n",
    "    # input file\n",
    "    parser.add_argument(\"--raw_input_name\", type=str, default=\"active_links_valued.csv\")\n",
    "    parser.add_argument(\"--label_input_name\", type=str, default=\"active_nodes_onlyIdAndMainCriminal.csv\")\n",
    "    \n",
    "    \n",
    "    # output file\n",
    "    parser.add_argument(\"--tr_output_name\", type=str, default=\"train.edgelist\")\n",
    "    parser.add_argument(\"--dev_output_name\", type=str, default=\"dev.edgelist\")\n",
    "    parser.add_argument(\"--test_output_name\", type=str, default=\"test.edgelist\")\n",
    "    \n",
    "    args = parser.parse_args(args=[])\n",
    "    \n",
    "    return args"
   ]
  },
  {
   "cell_type": "code",
   "execution_count": null,
   "metadata": {},
   "outputs": [],
   "source": [
    "def tr_dev_test_split(X, y, args):\n",
    "    print(\"=\"*30)\n",
    "    print(\"Start spliting data...\")\n",
    "    # 先切成 train v.s. (dev + test)\n",
    "    X_train, X_tmp, y_train, y_tmp = train_test_split(\n",
    "        X, y, test_size=(args.dev_portion + args.test_portion)\n",
    "    )\n",
    "    \n",
    "    # 再把 (dev + test) 切成 dev v.s. test\n",
    "    X_dev, X_test, y_dev, y_test = train_test_split(\n",
    "        X_tmp, y_tmp, test_size=args.dev_portion/(args.dev_portion+args.test_portion)\n",
    "    )\n",
    "    print(\"Finish spliting data...\")\n",
    "    print(\"=\"*30)\n",
    "    return X_train, X_dev, X_test "
   ]
  },
  {
   "cell_type": "code",
   "execution_count": null,
   "metadata": {},
   "outputs": [],
   "source": [
    "def show_split_info(tr, dev, test, args):\n",
    "    print(\"=\"*30)\n",
    "    print(\"Showing split data info...\")\n",
    "    label_df = pd.read_csv(args.raw_dir/args.label_input_name)\n",
    "    for name, split in zip([\"train\", \"dev\", \"test\"], [tr, dev, test]):\n",
    "        split = split.merge(label_df.rename(columns={\"id\": \"V1\", \"mainCriminal\": \"V1_label\"}), on=\"V1\")\n",
    "        split = split.merge(label_df.rename(columns={\"id\": \"V2\", \"mainCriminal\": \"V2_label\"}), on=\"V2\")\n",
    "        \n",
    "        print(\"{} data info: \".format(name))\n",
    "        print(\"\\tNumber of link pair: {}\".format(len(split)))\n",
    "        print(\"\\tNumber of node: {}\".format(\n",
    "            len(split[\"V1\"].append(split[\"V2\"]).unique())\n",
    "        ))\n",
    "        print(\"\\tNumber of criminal node: {}\".format(\n",
    "            len(split[(split[\"V1_label\"] == True)][\"V1\"].append(split[(split[\"V2_label\"] == True)][\"V2\"]).unique())\n",
    "        ))\n",
    "    print(\"=\"*30) "
   ]
  },
  {
   "cell_type": "code",
   "execution_count": null,
   "metadata": {},
   "outputs": [],
   "source": [
    "def save_tr_dev_test(tr, dev, test, args):\n",
    "    print(\"=\"*30)\n",
    "    print(\"Saving tr, dev, test at ./{}...\".format(str(args.data_dir)))\n",
    "    tr.to_csv(args.data_dir/args.tr_output_name, sep=' ', index=False, header=False)\n",
    "    dev.to_csv(args.data_dir/args.dev_output_name, sep=' ', index=False, header=False)\n",
    "    test.to_csv(args.data_dir/args.test_output_name, sep=' ', index=False, header=False)\n",
    "    print(\"=\"*30)"
   ]
  },
  {
   "cell_type": "code",
   "execution_count": null,
   "metadata": {},
   "outputs": [],
   "source": [
    "def main(args):\n",
    "    np.random.seed(args.seed)\n",
    "    link_df = pd.read_csv(args.raw_dir/args.raw_input_name)\n",
    "    link_df[\"tmp_y\"] = None\n",
    "    \n",
    "    X_train, X_dev, X_test = tr_dev_test_split(\n",
    "        link_df[[\"V1\", \"V2\", \"counts\"]], link_df[\"tmp_y\"], args\n",
    "    )\n",
    "\n",
    "    show_split_info(X_train, X_dev, X_test, args)\n",
    "    \n",
    "    save_tr_dev_test(X_train, X_dev, X_test, args)"
   ]
  },
  {
   "cell_type": "code",
   "execution_count": 7,
   "metadata": {},
   "outputs": [
    {
     "name": "stdout",
     "output_type": "stream",
     "text": [
      "==============================\n",
      "Start spliting data...\n",
      "Finish spliting data...\n",
      "==============================\n",
      "==============================\n",
      "Showing split data info...\n",
      "train data info: \n",
      "\tNumber of link pair: 2073830\n",
      "\tNumber of node: 50696\n",
      "\tNumber of criminal node: 679\n",
      "dev data info: \n",
      "\tNumber of link pair: 259229\n",
      "\tNumber of node: 38662\n",
      "\tNumber of criminal node: 492\n",
      "test data info: \n",
      "\tNumber of link pair: 259229\n",
      "\tNumber of node: 38639\n",
      "\tNumber of criminal node: 488\n",
      "==============================\n",
      "==============================\n",
      "Saving tr, dev, test at ./data...\n",
      "==============================\n"
     ]
    }
   ],
   "source": [
    "if __name__ == \"__main__\":\n",
    "    args = parse_args()\n",
    "    main(args)"
   ]
  },
  {
   "cell_type": "code",
   "execution_count": null,
   "metadata": {},
   "outputs": [],
   "source": []
  }
 ],
 "metadata": {
  "kernelspec": {
   "display_name": "Python 3",
   "language": "python",
   "name": "python3"
  },
  "language_info": {
   "codemirror_mode": {
    "name": "ipython",
    "version": 3
   },
   "file_extension": ".py",
   "mimetype": "text/x-python",
   "name": "python",
   "nbconvert_exporter": "python",
   "pygments_lexer": "ipython3",
   "version": "3.7.4"
  }
 },
 "nbformat": 4,
 "nbformat_minor": 2
}
